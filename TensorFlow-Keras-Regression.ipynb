{
 "cells": [
  {
   "cell_type": "code",
   "execution_count": 1,
   "id": "b1c9116b",
   "metadata": {
    "_cell_guid": "b1076dfc-b9ad-4769-8c92-a6c4dae69d19",
    "_uuid": "8f2839f25d086af736a60e9eeb907d3b93b6e0e5",
    "execution": {
     "iopub.execute_input": "2022-07-15T21:44:51.733092Z",
     "iopub.status.busy": "2022-07-15T21:44:51.732550Z",
     "iopub.status.idle": "2022-07-15T21:44:51.760562Z",
     "shell.execute_reply": "2022-07-15T21:44:51.759204Z"
    },
    "papermill": {
     "duration": 0.04882,
     "end_time": "2022-07-15T21:44:51.764545",
     "exception": false,
     "start_time": "2022-07-15T21:44:51.715725",
     "status": "completed"
    },
    "tags": []
   },
   "outputs": [
    {
     "name": "stdout",
     "output_type": "stream",
     "text": [
      "/kaggle/input/fake-data-for-reg/fake_reg.csv\n"
     ]
    }
   ],
   "source": [
    "# This Python 3 environment comes with many helpful analytics libraries installed\n",
    "# It is defined by the kaggle/python Docker image: https://github.com/kaggle/docker-python\n",
    "# For example, here's several helpful packages to load\n",
    "\n",
    "import numpy as np # linear algebra\n",
    "import pandas as pd # data processing, CSV file I/O (e.g. pd.read_csv)\n",
    "\n",
    "# Input data files are available in the read-only \"../input/\" directory\n",
    "# For example, running this (by clicking run or pressing Shift+Enter) will list all files under the input directory\n",
    "\n",
    "import os\n",
    "for dirname, _, filenames in os.walk('/kaggle/input'):\n",
    "    for filename in filenames:\n",
    "        print(os.path.join(dirname, filename))\n",
    "\n",
    "# You can write up to 20GB to the current directory (/kaggle/working/) that gets preserved as output when you create a version using \"Save & Run All\" \n",
    "# You can also write temporary files to /kaggle/temp/, but they won't be saved outside of the current session"
   ]
  },
  {
   "cell_type": "code",
   "execution_count": 2,
   "id": "525c8102",
   "metadata": {
    "execution": {
     "iopub.execute_input": "2022-07-15T21:44:51.792847Z",
     "iopub.status.busy": "2022-07-15T21:44:51.792327Z",
     "iopub.status.idle": "2022-07-15T21:44:53.010253Z",
     "shell.execute_reply": "2022-07-15T21:44:53.008923Z"
    },
    "jupyter": {
     "source_hidden": true
    },
    "papermill": {
     "duration": 1.235751,
     "end_time": "2022-07-15T21:44:53.013577",
     "exception": false,
     "start_time": "2022-07-15T21:44:51.777826",
     "status": "completed"
    },
    "tags": []
   },
   "outputs": [],
   "source": [
    "import numpy as np\n",
    "import pandas as pd\n",
    "import matplotlib.pyplot as plt\n",
    "import seaborn as sns\n",
    "sns.set_style('whitegrid')\n",
    "%matplotlib inline"
   ]
  },
  {
   "cell_type": "code",
   "execution_count": 3,
   "id": "648272e6",
   "metadata": {
    "execution": {
     "iopub.execute_input": "2022-07-15T21:44:53.038546Z",
     "iopub.status.busy": "2022-07-15T21:44:53.037630Z",
     "iopub.status.idle": "2022-07-15T21:44:53.059860Z",
     "shell.execute_reply": "2022-07-15T21:44:53.058541Z"
    },
    "papermill": {
     "duration": 0.037379,
     "end_time": "2022-07-15T21:44:53.062406",
     "exception": false,
     "start_time": "2022-07-15T21:44:53.025027",
     "status": "completed"
    },
    "tags": []
   },
   "outputs": [],
   "source": [
    "df = pd.read_csv('../input/fake-data-for-reg/fake_reg.csv')"
   ]
  },
  {
   "cell_type": "code",
   "execution_count": 4,
   "id": "94a9c716",
   "metadata": {
    "execution": {
     "iopub.execute_input": "2022-07-15T21:44:53.088116Z",
     "iopub.status.busy": "2022-07-15T21:44:53.087715Z",
     "iopub.status.idle": "2022-07-15T21:44:53.109914Z",
     "shell.execute_reply": "2022-07-15T21:44:53.108691Z"
    },
    "papermill": {
     "duration": 0.038182,
     "end_time": "2022-07-15T21:44:53.112534",
     "exception": false,
     "start_time": "2022-07-15T21:44:53.074352",
     "status": "completed"
    },
    "tags": []
   },
   "outputs": [
    {
     "data": {
      "text/html": [
       "<div>\n",
       "<style scoped>\n",
       "    .dataframe tbody tr th:only-of-type {\n",
       "        vertical-align: middle;\n",
       "    }\n",
       "\n",
       "    .dataframe tbody tr th {\n",
       "        vertical-align: top;\n",
       "    }\n",
       "\n",
       "    .dataframe thead th {\n",
       "        text-align: right;\n",
       "    }\n",
       "</style>\n",
       "<table border=\"1\" class=\"dataframe\">\n",
       "  <thead>\n",
       "    <tr style=\"text-align: right;\">\n",
       "      <th></th>\n",
       "      <th>price</th>\n",
       "      <th>feature1</th>\n",
       "      <th>feature2</th>\n",
       "    </tr>\n",
       "  </thead>\n",
       "  <tbody>\n",
       "    <tr>\n",
       "      <th>0</th>\n",
       "      <td>461.527929</td>\n",
       "      <td>999.787558</td>\n",
       "      <td>999.766096</td>\n",
       "    </tr>\n",
       "    <tr>\n",
       "      <th>1</th>\n",
       "      <td>548.130011</td>\n",
       "      <td>998.861615</td>\n",
       "      <td>1001.042403</td>\n",
       "    </tr>\n",
       "    <tr>\n",
       "      <th>2</th>\n",
       "      <td>410.297162</td>\n",
       "      <td>1000.070267</td>\n",
       "      <td>998.844015</td>\n",
       "    </tr>\n",
       "    <tr>\n",
       "      <th>3</th>\n",
       "      <td>540.382220</td>\n",
       "      <td>999.952251</td>\n",
       "      <td>1000.440940</td>\n",
       "    </tr>\n",
       "    <tr>\n",
       "      <th>4</th>\n",
       "      <td>546.024553</td>\n",
       "      <td>1000.446011</td>\n",
       "      <td>1000.338531</td>\n",
       "    </tr>\n",
       "  </tbody>\n",
       "</table>\n",
       "</div>"
      ],
      "text/plain": [
       "        price     feature1     feature2\n",
       "0  461.527929   999.787558   999.766096\n",
       "1  548.130011   998.861615  1001.042403\n",
       "2  410.297162  1000.070267   998.844015\n",
       "3  540.382220   999.952251  1000.440940\n",
       "4  546.024553  1000.446011  1000.338531"
      ]
     },
     "execution_count": 4,
     "metadata": {},
     "output_type": "execute_result"
    }
   ],
   "source": [
    "df.head()"
   ]
  },
  {
   "cell_type": "code",
   "execution_count": 5,
   "id": "11eb6dce",
   "metadata": {
    "execution": {
     "iopub.execute_input": "2022-07-15T21:44:53.139173Z",
     "iopub.status.busy": "2022-07-15T21:44:53.138460Z",
     "iopub.status.idle": "2022-07-15T21:44:55.378009Z",
     "shell.execute_reply": "2022-07-15T21:44:55.377015Z"
    },
    "papermill": {
     "duration": 2.256861,
     "end_time": "2022-07-15T21:44:55.381531",
     "exception": false,
     "start_time": "2022-07-15T21:44:53.124670",
     "status": "completed"
    },
    "tags": []
   },
   "outputs": [
    {
     "data": {
      "text/plain": [
       "<seaborn.axisgrid.PairGrid at 0x7f6c5110e990>"
      ]
     },
     "execution_count": 5,
     "metadata": {},
     "output_type": "execute_result"
    },
    {
     "data": {
      "image/png": "[encoded data removed]",
      "text/plain": [
       "<Figure size 540x540 with 12 Axes>"
      ]
     },
     "metadata": {
      "needs_background": "light"
     },
     "output_type": "display_data"
    }
   ],
   "source": [
    "sns.pairplot(df)"
   ]
  },
  {
   "cell_type": "code",
   "execution_count": 6,
   "id": "7422dd38",
   "metadata": {
    "execution": {
     "iopub.execute_input": "2022-07-15T21:44:55.411591Z",
     "iopub.status.busy": "2022-07-15T21:44:55.410982Z",
     "iopub.status.idle": "2022-07-15T21:44:55.630471Z",
     "shell.execute_reply": "2022-07-15T21:44:55.629119Z"
    },
    "papermill": {
     "duration": 0.237699,
     "end_time": "2022-07-15T21:44:55.633325",
     "exception": false,
     "start_time": "2022-07-15T21:44:55.395626",
     "status": "completed"
    },
    "tags": []
   },
   "outputs": [],
   "source": [
    "from sklearn.model_selection import train_test_split"
   ]
  },
  {
   "cell_type": "code",
   "execution_count": 7,
   "id": "cd811175",
   "metadata": {
    "execution": {
     "iopub.execute_input": "2022-07-15T21:44:55.663399Z",
     "iopub.status.busy": "2022-07-15T21:44:55.662664Z",
     "iopub.status.idle": "2022-07-15T21:44:55.668286Z",
     "shell.execute_reply": "2022-07-15T21:44:55.667208Z"
    },
    "papermill": {
     "duration": 0.023711,
     "end_time": "2022-07-15T21:44:55.670831",
     "exception": false,
     "start_time": "2022-07-15T21:44:55.647120",
     "status": "completed"
    },
    "tags": []
   },
   "outputs": [],
   "source": [
    "X = df[['feature1', 'feature2']].values"
   ]
  },
  {
   "cell_type": "code",
   "execution_count": 8,
   "id": "95d4e709",
   "metadata": {
    "execution": {
     "iopub.execute_input": "2022-07-15T21:44:55.700462Z",
     "iopub.status.busy": "2022-07-15T21:44:55.699694Z",
     "iopub.status.idle": "2022-07-15T21:44:55.704275Z",
     "shell.execute_reply": "2022-07-15T21:44:55.703466Z"
    },
    "papermill": {
     "duration": 0.021564,
     "end_time": "2022-07-15T21:44:55.706394",
     "exception": false,
     "start_time": "2022-07-15T21:44:55.684830",
     "status": "completed"
    },
    "tags": []
   },
   "outputs": [],
   "source": [
    "y = df['price'].values"
   ]
  },
  {
   "cell_type": "code",
   "execution_count": 9,
   "id": "07d905b9",
   "metadata": {
    "execution": {
     "iopub.execute_input": "2022-07-15T21:44:55.735597Z",
     "iopub.status.busy": "2022-07-15T21:44:55.734845Z",
     "iopub.status.idle": "2022-07-15T21:44:55.740669Z",
     "shell.execute_reply": "2022-07-15T21:44:55.739749Z"
    },
    "papermill": {
     "duration": 0.023014,
     "end_time": "2022-07-15T21:44:55.742885",
     "exception": false,
     "start_time": "2022-07-15T21:44:55.719871",
     "status": "completed"
    },
    "tags": []
   },
   "outputs": [],
   "source": [
    "X_train, X_test, y_train, y_test = train_test_split(X, y, test_size=0.3, random_state=42)\n"
   ]
  },
  {
   "cell_type": "code",
   "execution_count": 10,
   "id": "64d766a7",
   "metadata": {
    "execution": {
     "iopub.execute_input": "2022-07-15T21:44:55.771871Z",
     "iopub.status.busy": "2022-07-15T21:44:55.771170Z",
     "iopub.status.idle": "2022-07-15T21:44:55.777578Z",
     "shell.execute_reply": "2022-07-15T21:44:55.776401Z"
    },
    "papermill": {
     "duration": 0.023761,
     "end_time": "2022-07-15T21:44:55.779978",
     "exception": false,
     "start_time": "2022-07-15T21:44:55.756217",
     "status": "completed"
    },
    "tags": []
   },
   "outputs": [
    {
     "data": {
      "text/plain": [
       "(700, 2)"
      ]
     },
     "execution_count": 10,
     "metadata": {},
     "output_type": "execute_result"
    }
   ],
   "source": [
    "X_train.shape"
   ]
  },
  {
   "cell_type": "code",
   "execution_count": 11,
   "id": "393a1aa4",
   "metadata": {
    "execution": {
     "iopub.execute_input": "2022-07-15T21:44:55.809610Z",
     "iopub.status.busy": "2022-07-15T21:44:55.808847Z",
     "iopub.status.idle": "2022-07-15T21:44:55.814338Z",
     "shell.execute_reply": "2022-07-15T21:44:55.813616Z"
    },
    "papermill": {
     "duration": 0.022548,
     "end_time": "2022-07-15T21:44:55.816291",
     "exception": false,
     "start_time": "2022-07-15T21:44:55.793743",
     "status": "completed"
    },
    "tags": []
   },
   "outputs": [
    {
     "data": {
      "text/plain": [
       "(700,)"
      ]
     },
     "execution_count": 11,
     "metadata": {},
     "output_type": "execute_result"
    }
   ],
   "source": [
    "y_train.shape"
   ]
  },
  {
   "cell_type": "code",
   "execution_count": 12,
   "id": "bb871a0b",
   "metadata": {
    "execution": {
     "iopub.execute_input": "2022-07-15T21:44:55.847120Z",
     "iopub.status.busy": "2022-07-15T21:44:55.846384Z",
     "iopub.status.idle": "2022-07-15T21:44:55.852768Z",
     "shell.execute_reply": "2022-07-15T21:44:55.851685Z"
    },
    "papermill": {
     "duration": 0.024238,
     "end_time": "2022-07-15T21:44:55.854984",
     "exception": false,
     "start_time": "2022-07-15T21:44:55.830746",
     "status": "completed"
    },
    "tags": []
   },
   "outputs": [
    {
     "data": {
      "text/plain": [
       "(300, 2)"
      ]
     },
     "execution_count": 12,
     "metadata": {},
     "output_type": "execute_result"
    }
   ],
   "source": [
    "X_test.shape"
   ]
  },
  {
   "cell_type": "code",
   "execution_count": 13,
   "id": "0a316baa",
   "metadata": {
    "execution": {
     "iopub.execute_input": "2022-07-15T21:44:55.885263Z",
     "iopub.status.busy": "2022-07-15T21:44:55.884492Z",
     "iopub.status.idle": "2022-07-15T21:44:55.888945Z",
     "shell.execute_reply": "2022-07-15T21:44:55.888137Z"
    },
    "papermill": {
     "duration": 0.021996,
     "end_time": "2022-07-15T21:44:55.891164",
     "exception": false,
     "start_time": "2022-07-15T21:44:55.869168",
     "status": "completed"
    },
    "tags": []
   },
   "outputs": [],
   "source": [
    "from sklearn.preprocessing import MinMaxScaler"
   ]
  },
  {
   "cell_type": "code",
   "execution_count": 14,
   "id": "13f7af15",
   "metadata": {
    "execution": {
     "iopub.execute_input": "2022-07-15T21:44:55.921369Z",
     "iopub.status.busy": "2022-07-15T21:44:55.920616Z",
     "iopub.status.idle": "2022-07-15T21:44:55.925435Z",
     "shell.execute_reply": "2022-07-15T21:44:55.924535Z"
    },
    "papermill": {
     "duration": 0.022691,
     "end_time": "2022-07-15T21:44:55.927811",
     "exception": false,
     "start_time": "2022-07-15T21:44:55.905120",
     "status": "completed"
    },
    "tags": []
   },
   "outputs": [],
   "source": [
    "scaler = MinMaxScaler()"
   ]
  },
  {
   "cell_type": "code",
   "execution_count": 15,
   "id": "b8ab2e6e",
   "metadata": {
    "execution": {
     "iopub.execute_input": "2022-07-15T21:44:55.957793Z",
     "iopub.status.busy": "2022-07-15T21:44:55.956909Z",
     "iopub.status.idle": "2022-07-15T21:44:55.965300Z",
     "shell.execute_reply": "2022-07-15T21:44:55.964438Z"
    },
    "papermill": {
     "duration": 0.025769,
     "end_time": "2022-07-15T21:44:55.967389",
     "exception": false,
     "start_time": "2022-07-15T21:44:55.941620",
     "status": "completed"
    },
    "tags": []
   },
   "outputs": [
    {
     "data": {
      "text/plain": [
       "MinMaxScaler()"
      ]
     },
     "execution_count": 15,
     "metadata": {},
     "output_type": "execute_result"
    }
   ],
   "source": [
    "scaler.fit(X_train)"
   ]
  },
  {
   "cell_type": "code",
   "execution_count": 16,
   "id": "1ecddbae",
   "metadata": {
    "execution": {
     "iopub.execute_input": "2022-07-15T21:44:55.997555Z",
     "iopub.status.busy": "2022-07-15T21:44:55.996826Z",
     "iopub.status.idle": "2022-07-15T21:44:56.002011Z",
     "shell.execute_reply": "2022-07-15T21:44:56.000939Z"
    },
    "papermill": {
     "duration": 0.023098,
     "end_time": "2022-07-15T21:44:56.004403",
     "exception": false,
     "start_time": "2022-07-15T21:44:55.981305",
     "status": "completed"
    },
    "tags": []
   },
   "outputs": [],
   "source": [
    "X_train = scaler.transform(X_train)"
   ]
  },
  {
   "cell_type": "code",
   "execution_count": 17,
   "id": "7da429da",
   "metadata": {
    "execution": {
     "iopub.execute_input": "2022-07-15T21:44:56.034381Z",
     "iopub.status.busy": "2022-07-15T21:44:56.033647Z",
     "iopub.status.idle": "2022-07-15T21:44:56.038600Z",
     "shell.execute_reply": "2022-07-15T21:44:56.037743Z"
    },
    "papermill": {
     "duration": 0.022807,
     "end_time": "2022-07-15T21:44:56.041048",
     "exception": false,
     "start_time": "2022-07-15T21:44:56.018241",
     "status": "completed"
    },
    "tags": []
   },
   "outputs": [],
   "source": [
    "X_test = scaler.transform(X_test)"
   ]
  },
  {
   "cell_type": "code",
   "execution_count": 18,
   "id": "2ce6053f",
   "metadata": {
    "execution": {
     "iopub.execute_input": "2022-07-15T21:44:56.071893Z",
     "iopub.status.busy": "2022-07-15T21:44:56.071071Z",
     "iopub.status.idle": "2022-07-15T21:45:06.681915Z",
     "shell.execute_reply": "2022-07-15T21:45:06.680424Z"
    },
    "papermill": {
     "duration": 10.629169,
     "end_time": "2022-07-15T21:45:06.684812",
     "exception": false,
     "start_time": "2022-07-15T21:44:56.055643",
     "status": "completed"
    },
    "tags": []
   },
   "outputs": [],
   "source": [
    "from tensorflow.keras.models import Sequential\n",
    "from tensorflow.keras.layers import Dense, Activation"
   ]
  },
  {
   "cell_type": "code",
   "execution_count": 19,
   "id": "b80bd6d3",
   "metadata": {
    "execution": {
     "iopub.execute_input": "2022-07-15T21:45:06.716722Z",
     "iopub.status.busy": "2022-07-15T21:45:06.715258Z",
     "iopub.status.idle": "2022-07-15T21:45:06.814562Z",
     "shell.execute_reply": "2022-07-15T21:45:06.813570Z"
    },
    "papermill": {
     "duration": 0.117127,
     "end_time": "2022-07-15T21:45:06.816928",
     "exception": false,
     "start_time": "2022-07-15T21:45:06.699801",
     "status": "completed"
    },
    "tags": []
   },
   "outputs": [
    {
     "name": "stderr",
     "output_type": "stream",
     "text": [
      "2022-07-15 21:45:06.760414: I tensorflow/core/common_runtime/process_util.cc:146] Creating new thread pool with default inter op setting: 2. Tune using inter_op_parallelism_threads for best performance.\n"
     ]
    }
   ],
   "source": [
    "model = Sequential()\n",
    "\n",
    "model.add(Dense(4,activation='relu'))\n",
    "model.add(Dense(4,activation='relu'))\n",
    "model.add(Dense(4,activation='relu'))\n",
    "\n",
    "# Final output node for prediction\n",
    "model.add(Dense(1))\n",
    "\n",
    "model.compile(optimizer='rmsprop',loss='mse')\n"
   ]
  },
  {
   "cell_type": "code",
   "execution_count": 20,
   "id": "d2e17d1d",
   "metadata": {
    "execution": {
     "iopub.execute_input": "2022-07-15T21:45:06.848808Z",
     "iopub.status.busy": "2022-07-15T21:45:06.847971Z",
     "iopub.status.idle": "2022-07-15T21:45:19.464986Z",
     "shell.execute_reply": "2022-07-15T21:45:19.463825Z"
    },
    "papermill": {
     "duration": 12.635515,
     "end_time": "2022-07-15T21:45:19.467495",
     "exception": false,
     "start_time": "2022-07-15T21:45:06.831980",
     "status": "completed"
    },
    "tags": []
   },
   "outputs": [
    {
     "name": "stderr",
     "output_type": "stream",
     "text": [
      "2022-07-15 21:45:06.950481: I tensorflow/compiler/mlir/mlir_graph_optimization_pass.cc:185] None of the MLIR Optimization Passes are enabled (registered 2)\n"
     ]
    },
    {
     "name": "stdout",
     "output_type": "stream",
     "text": [
      "Epoch 1/250\n",
      "22/22 [==============================] - 1s 2ms/step - loss: 256767.5000\n",
      "Epoch 2/250\n",
      "22/22 [==============================] - 0s 2ms/step - loss: 256690.1719\n",
      "Epoch 3/250\n",
      "22/22 [==============================] - 0s 2ms/step - loss: 256651.6562\n",
      "Epoch 4/250\n",
      "22/22 [==============================] - 0s 2ms/step - loss: 256612.8750\n",
      "Epoch 5/250\n",
      "22/22 [==============================] - 0s 2ms/step - loss: 256567.8438\n",
      "Epoch 6/250\n",
      "22/22 [==============================] - 0s 2ms/step - loss: 256516.0625\n",
      "Epoch 7/250\n",
      "22/22 [==============================] - 0s 3ms/step - loss: 256457.3906\n",
      "Epoch 8/250\n",
      "22/22 [==============================] - 0s 3ms/step - loss: 256391.7656\n",
      "Epoch 9/250\n",
      "22/22 [==============================] - 0s 2ms/step - loss: 256318.9531\n",
      "Epoch 10/250\n",
      "22/22 [==============================] - 0s 2ms/step - loss: 256238.0625\n",
      "Epoch 11/250\n",
      "22/22 [==============================] - 0s 2ms/step - loss: 256147.6875\n",
      "Epoch 12/250\n",
      "22/22 [==============================] - 0s 2ms/step - loss: 256046.9062\n",
      "Epoch 13/250\n",
      "22/22 [==============================] - 0s 2ms/step - loss: 255935.1562\n",
      "Epoch 14/250\n",
      "22/22 [==============================] - 0s 2ms/step - loss: 255809.5312\n",
      "Epoch 15/250\n",
      "22/22 [==============================] - 0s 2ms/step - loss: 255669.0938\n",
      "Epoch 16/250\n",
      "22/22 [==============================] - 0s 2ms/step - loss: 255511.3906\n",
      "Epoch 17/250\n",
      "22/22 [==============================] - 0s 2ms/step - loss: 255335.6562\n",
      "Epoch 18/250\n",
      "22/22 [==============================] - 0s 2ms/step - loss: 255138.4062\n",
      "Epoch 19/250\n",
      "22/22 [==============================] - 0s 2ms/step - loss: 254918.7812\n",
      "Epoch 20/250\n",
      "22/22 [==============================] - 0s 2ms/step - loss: 254673.9844\n",
      "Epoch 21/250\n",
      "22/22 [==============================] - 0s 2ms/step - loss: 254401.2969\n",
      "Epoch 22/250\n",
      "22/22 [==============================] - 0s 2ms/step - loss: 254098.7031\n",
      "Epoch 23/250\n",
      "22/22 [==============================] - 0s 2ms/step - loss: 253764.5469\n",
      "Epoch 24/250\n",
      "22/22 [==============================] - 0s 3ms/step - loss: 253397.9688\n",
      "Epoch 25/250\n",
      "22/22 [==============================] - 0s 2ms/step - loss: 252993.3750\n",
      "Epoch 26/250\n",
      "22/22 [==============================] - 0s 3ms/step - loss: 252553.8750\n",
      "Epoch 27/250\n",
      "22/22 [==============================] - 0s 2ms/step - loss: 252074.1562\n",
      "Epoch 28/250\n",
      "22/22 [==============================] - 0s 2ms/step - loss: 251552.9375\n",
      "Epoch 29/250\n",
      "22/22 [==============================] - 0s 3ms/step - loss: 250985.2812\n",
      "Epoch 30/250\n",
      "22/22 [==============================] - 0s 3ms/step - loss: 250369.8438\n",
      "Epoch 31/250\n",
      "22/22 [==============================] - 0s 2ms/step - loss: 249706.9531\n",
      "Epoch 32/250\n",
      "22/22 [==============================] - 0s 2ms/step - loss: 248993.9844\n",
      "Epoch 33/250\n",
      "22/22 [==============================] - 0s 2ms/step - loss: 248223.1250\n",
      "Epoch 34/250\n",
      "22/22 [==============================] - 0s 2ms/step - loss: 247397.8125\n",
      "Epoch 35/250\n",
      "22/22 [==============================] - 0s 2ms/step - loss: 246513.4844\n",
      "Epoch 36/250\n",
      "22/22 [==============================] - 0s 2ms/step - loss: 245562.4219\n",
      "Epoch 37/250\n",
      "22/22 [==============================] - 0s 2ms/step - loss: 244551.8594\n",
      "Epoch 38/250\n",
      "22/22 [==============================] - 0s 2ms/step - loss: 243473.8750\n",
      "Epoch 39/250\n",
      "22/22 [==============================] - 0s 2ms/step - loss: 242328.7969\n",
      "Epoch 40/250\n",
      "22/22 [==============================] - 0s 2ms/step - loss: 241108.9375\n",
      "Epoch 41/250\n",
      "22/22 [==============================] - 0s 2ms/step - loss: 239806.6094\n",
      "Epoch 42/250\n",
      "22/22 [==============================] - 0s 2ms/step - loss: 238429.0000\n",
      "Epoch 43/250\n",
      "22/22 [==============================] - 0s 2ms/step - loss: 236972.1562\n",
      "Epoch 44/250\n",
      "22/22 [==============================] - 0s 2ms/step - loss: 235432.8750\n",
      "Epoch 45/250\n",
      "22/22 [==============================] - 0s 2ms/step - loss: 233803.1250\n",
      "Epoch 46/250\n",
      "22/22 [==============================] - 0s 2ms/step - loss: 232086.2812\n",
      "Epoch 47/250\n",
      "22/22 [==============================] - 0s 2ms/step - loss: 230277.8438\n",
      "Epoch 48/250\n",
      "22/22 [==============================] - 0s 2ms/step - loss: 228384.0625\n",
      "Epoch 49/250\n",
      "22/22 [==============================] - 0s 2ms/step - loss: 226385.9688\n",
      "Epoch 50/250\n",
      "22/22 [==============================] - 0s 2ms/step - loss: 224293.0781\n",
      "Epoch 51/250\n",
      "22/22 [==============================] - 0s 2ms/step - loss: 222103.6562\n",
      "Epoch 52/250\n",
      "22/22 [==============================] - 0s 2ms/step - loss: 219800.5781\n",
      "Epoch 53/250\n",
      "22/22 [==============================] - 0s 2ms/step - loss: 217394.1875\n",
      "Epoch 54/250\n",
      "22/22 [==============================] - 0s 2ms/step - loss: 214882.0156\n",
      "Epoch 55/250\n",
      "22/22 [==============================] - 0s 2ms/step - loss: 212280.1406\n",
      "Epoch 56/250\n",
      "22/22 [==============================] - 0s 2ms/step - loss: 209561.9688\n",
      "Epoch 57/250\n",
      "22/22 [==============================] - 0s 2ms/step - loss: 206721.3906\n",
      "Epoch 58/250\n",
      "22/22 [==============================] - 0s 2ms/step - loss: 203766.6250\n",
      "Epoch 59/250\n",
      "22/22 [==============================] - 0s 2ms/step - loss: 200691.1719\n",
      "Epoch 60/250\n",
      "22/22 [==============================] - 0s 2ms/step - loss: 197502.7812\n",
      "Epoch 61/250\n",
      "22/22 [==============================] - 0s 2ms/step - loss: 194210.1094\n",
      "Epoch 62/250\n",
      "22/22 [==============================] - 0s 2ms/step - loss: 190817.7500\n",
      "Epoch 63/250\n",
      "22/22 [==============================] - 0s 2ms/step - loss: 187285.3281\n",
      "Epoch 64/250\n",
      "22/22 [==============================] - 0s 2ms/step - loss: 183646.3125\n",
      "Epoch 65/250\n",
      "22/22 [==============================] - 0s 2ms/step - loss: 179894.9531\n",
      "Epoch 66/250\n",
      "22/22 [==============================] - 0s 2ms/step - loss: 176022.1250\n",
      "Epoch 67/250\n",
      "22/22 [==============================] - 0s 2ms/step - loss: 172019.5625\n",
      "Epoch 68/250\n",
      "22/22 [==============================] - 0s 2ms/step - loss: 167935.7656\n",
      "Epoch 69/250\n",
      "22/22 [==============================] - 0s 2ms/step - loss: 163740.8281\n",
      "Epoch 70/250\n",
      "22/22 [==============================] - 0s 2ms/step - loss: 159411.7188\n",
      "Epoch 71/250\n",
      "22/22 [==============================] - 0s 4ms/step - loss: 154970.3906\n",
      "Epoch 72/250\n",
      "22/22 [==============================] - 0s 3ms/step - loss: 150467.6875\n",
      "Epoch 73/250\n",
      "22/22 [==============================] - 0s 2ms/step - loss: 145855.4219\n",
      "Epoch 74/250\n",
      "22/22 [==============================] - 0s 2ms/step - loss: 141100.0156\n",
      "Epoch 75/250\n",
      "22/22 [==============================] - 0s 2ms/step - loss: 136283.7812\n",
      "Epoch 76/250\n",
      "22/22 [==============================] - 0s 2ms/step - loss: 131399.9531\n",
      "Epoch 77/250\n",
      "22/22 [==============================] - 0s 2ms/step - loss: 126439.0547\n",
      "Epoch 78/250\n",
      "22/22 [==============================] - 0s 2ms/step - loss: 121398.3047\n",
      "Epoch 79/250\n",
      "22/22 [==============================] - 0s 2ms/step - loss: 116268.2266\n",
      "Epoch 80/250\n",
      "22/22 [==============================] - 0s 2ms/step - loss: 111130.3047\n",
      "Epoch 81/250\n",
      "22/22 [==============================] - 0s 2ms/step - loss: 105908.1016\n",
      "Epoch 82/250\n",
      "22/22 [==============================] - 0s 2ms/step - loss: 100636.4375\n",
      "Epoch 83/250\n",
      "22/22 [==============================] - 0s 2ms/step - loss: 95342.9766\n",
      "Epoch 84/250\n",
      "22/22 [==============================] - 0s 2ms/step - loss: 90047.2188\n",
      "Epoch 85/250\n",
      "22/22 [==============================] - 0s 2ms/step - loss: 84731.5625\n",
      "Epoch 86/250\n",
      "22/22 [==============================] - 0s 2ms/step - loss: 79432.5000\n",
      "Epoch 87/250\n",
      "22/22 [==============================] - 0s 2ms/step - loss: 74150.5625\n",
      "Epoch 88/250\n",
      "22/22 [==============================] - 0s 2ms/step - loss: 68875.8750\n",
      "Epoch 89/250\n",
      "22/22 [==============================] - 0s 2ms/step - loss: 63683.5078\n",
      "Epoch 90/250\n",
      "22/22 [==============================] - 0s 2ms/step - loss: 58532.5820\n",
      "Epoch 91/250\n",
      "22/22 [==============================] - 0s 2ms/step - loss: 53470.0625\n",
      "Epoch 92/250\n",
      "22/22 [==============================] - 0s 2ms/step - loss: 48526.3945\n",
      "Epoch 93/250\n",
      "22/22 [==============================] - 0s 2ms/step - loss: 43699.7695\n",
      "Epoch 94/250\n",
      "22/22 [==============================] - 0s 2ms/step - loss: 39028.0898\n",
      "Epoch 95/250\n",
      "22/22 [==============================] - 0s 2ms/step - loss: 34505.7812\n",
      "Epoch 96/250\n",
      "22/22 [==============================] - 0s 2ms/step - loss: 30155.8164\n",
      "Epoch 97/250\n",
      "22/22 [==============================] - 0s 2ms/step - loss: 26028.8457\n",
      "Epoch 98/250\n",
      "22/22 [==============================] - 0s 2ms/step - loss: 22174.6641\n",
      "Epoch 99/250\n",
      "22/22 [==============================] - 0s 2ms/step - loss: 18515.2168\n",
      "Epoch 100/250\n",
      "22/22 [==============================] - 0s 2ms/step - loss: 15214.0283\n",
      "Epoch 101/250\n",
      "22/22 [==============================] - 0s 2ms/step - loss: 12210.7842\n",
      "Epoch 102/250\n",
      "22/22 [==============================] - 0s 2ms/step - loss: 9529.8076\n",
      "Epoch 103/250\n",
      "22/22 [==============================] - 0s 2ms/step - loss: 7202.7793\n",
      "Epoch 104/250\n",
      "22/22 [==============================] - 0s 2ms/step - loss: 5325.3384\n",
      "Epoch 105/250\n",
      "22/22 [==============================] - 0s 2ms/step - loss: 3861.4707\n",
      "Epoch 106/250\n",
      "22/22 [==============================] - 0s 2ms/step - loss: 2822.7812\n",
      "Epoch 107/250\n",
      "22/22 [==============================] - 0s 2ms/step - loss: 2210.3489\n",
      "Epoch 108/250\n",
      "22/22 [==============================] - 0s 2ms/step - loss: 1940.3334\n",
      "Epoch 109/250\n",
      "22/22 [==============================] - 0s 2ms/step - loss: 1871.5115\n",
      "Epoch 110/250\n",
      "22/22 [==============================] - 0s 2ms/step - loss: 1841.2781\n",
      "Epoch 111/250\n",
      "22/22 [==============================] - 0s 2ms/step - loss: 1812.4834\n",
      "Epoch 112/250\n",
      "22/22 [==============================] - 0s 2ms/step - loss: 1782.9027\n",
      "Epoch 113/250\n",
      "22/22 [==============================] - 0s 2ms/step - loss: 1755.6215\n",
      "Epoch 114/250\n",
      "22/22 [==============================] - 0s 3ms/step - loss: 1727.2852\n",
      "Epoch 115/250\n",
      "22/22 [==============================] - 0s 2ms/step - loss: 1698.3518\n",
      "Epoch 116/250\n",
      "22/22 [==============================] - 0s 3ms/step - loss: 1671.1135\n",
      "Epoch 117/250\n",
      "22/22 [==============================] - 0s 3ms/step - loss: 1638.7897\n",
      "Epoch 118/250\n",
      "22/22 [==============================] - 0s 3ms/step - loss: 1617.9532\n",
      "Epoch 119/250\n",
      "22/22 [==============================] - 0s 4ms/step - loss: 1590.5768\n",
      "Epoch 120/250\n",
      "22/22 [==============================] - 0s 2ms/step - loss: 1562.8213\n",
      "Epoch 121/250\n",
      "22/22 [==============================] - 0s 3ms/step - loss: 1533.8246\n",
      "Epoch 122/250\n",
      "22/22 [==============================] - 0s 3ms/step - loss: 1505.9136\n",
      "Epoch 123/250\n",
      "22/22 [==============================] - 0s 2ms/step - loss: 1483.1245\n",
      "Epoch 124/250\n",
      "22/22 [==============================] - 0s 2ms/step - loss: 1458.8318\n",
      "Epoch 125/250\n",
      "22/22 [==============================] - 0s 2ms/step - loss: 1431.8223\n",
      "Epoch 126/250\n",
      "22/22 [==============================] - 0s 2ms/step - loss: 1403.1277\n",
      "Epoch 127/250\n",
      "22/22 [==============================] - 0s 2ms/step - loss: 1372.5425\n",
      "Epoch 128/250\n",
      "22/22 [==============================] - 0s 2ms/step - loss: 1350.9666\n",
      "Epoch 129/250\n",
      "22/22 [==============================] - 0s 2ms/step - loss: 1323.8534\n",
      "Epoch 130/250\n",
      "22/22 [==============================] - 0s 2ms/step - loss: 1298.7186\n",
      "Epoch 131/250\n",
      "22/22 [==============================] - 0s 2ms/step - loss: 1274.3540\n",
      "Epoch 132/250\n",
      "22/22 [==============================] - 0s 2ms/step - loss: 1254.7245\n",
      "Epoch 133/250\n",
      "22/22 [==============================] - 0s 2ms/step - loss: 1231.1903\n",
      "Epoch 134/250\n",
      "22/22 [==============================] - 0s 2ms/step - loss: 1206.9171\n",
      "Epoch 135/250\n",
      "22/22 [==============================] - 0s 2ms/step - loss: 1182.8071\n",
      "Epoch 136/250\n",
      "22/22 [==============================] - 0s 2ms/step - loss: 1156.1648\n",
      "Epoch 137/250\n",
      "22/22 [==============================] - 0s 2ms/step - loss: 1130.5795\n",
      "Epoch 138/250\n",
      "22/22 [==============================] - 0s 2ms/step - loss: 1106.8586\n",
      "Epoch 139/250\n",
      "22/22 [==============================] - 0s 2ms/step - loss: 1080.5979\n",
      "Epoch 140/250\n",
      "22/22 [==============================] - 0s 2ms/step - loss: 1055.7166\n",
      "Epoch 141/250\n",
      "22/22 [==============================] - 0s 2ms/step - loss: 1031.6799\n",
      "Epoch 142/250\n",
      "22/22 [==============================] - 0s 2ms/step - loss: 1009.0770\n",
      "Epoch 143/250\n",
      "22/22 [==============================] - 0s 2ms/step - loss: 983.4223\n",
      "Epoch 144/250\n",
      "22/22 [==============================] - 0s 2ms/step - loss: 962.7342\n",
      "Epoch 145/250\n",
      "22/22 [==============================] - 0s 2ms/step - loss: 939.1771\n",
      "Epoch 146/250\n",
      "22/22 [==============================] - 0s 2ms/step - loss: 916.3823\n",
      "Epoch 147/250\n",
      "22/22 [==============================] - 0s 2ms/step - loss: 891.7498\n",
      "Epoch 148/250\n",
      "22/22 [==============================] - 0s 2ms/step - loss: 871.6492\n",
      "Epoch 149/250\n",
      "22/22 [==============================] - 0s 2ms/step - loss: 852.3051\n",
      "Epoch 150/250\n",
      "22/22 [==============================] - 0s 2ms/step - loss: 834.3179\n",
      "Epoch 151/250\n",
      "22/22 [==============================] - 0s 2ms/step - loss: 814.3897\n",
      "Epoch 152/250\n",
      "22/22 [==============================] - 0s 2ms/step - loss: 793.6945\n",
      "Epoch 153/250\n",
      "22/22 [==============================] - 0s 2ms/step - loss: 776.2276\n",
      "Epoch 154/250\n",
      "22/22 [==============================] - 0s 2ms/step - loss: 756.4592\n",
      "Epoch 155/250\n",
      "22/22 [==============================] - 0s 2ms/step - loss: 736.8997\n",
      "Epoch 156/250\n",
      "22/22 [==============================] - 0s 2ms/step - loss: 714.2354\n",
      "Epoch 157/250\n",
      "22/22 [==============================] - 0s 2ms/step - loss: 696.1938\n",
      "Epoch 158/250\n",
      "22/22 [==============================] - 0s 2ms/step - loss: 673.9690\n",
      "Epoch 159/250\n",
      "22/22 [==============================] - 0s 2ms/step - loss: 653.9143\n",
      "Epoch 160/250\n",
      "22/22 [==============================] - 0s 2ms/step - loss: 634.3584\n",
      "Epoch 161/250\n",
      "22/22 [==============================] - 0s 2ms/step - loss: 617.6785\n",
      "Epoch 162/250\n",
      "22/22 [==============================] - 0s 2ms/step - loss: 600.7377\n",
      "Epoch 163/250\n",
      "22/22 [==============================] - 0s 2ms/step - loss: 585.8746\n",
      "Epoch 164/250\n",
      "22/22 [==============================] - 0s 2ms/step - loss: 568.9800\n",
      "Epoch 165/250\n",
      "22/22 [==============================] - 0s 2ms/step - loss: 551.5377\n",
      "Epoch 166/250\n",
      "22/22 [==============================] - 0s 2ms/step - loss: 531.8337\n",
      "Epoch 167/250\n",
      "22/22 [==============================] - 0s 2ms/step - loss: 515.2344\n",
      "Epoch 168/250\n",
      "22/22 [==============================] - 0s 2ms/step - loss: 498.6070\n",
      "Epoch 169/250\n",
      "22/22 [==============================] - 0s 2ms/step - loss: 481.8546\n",
      "Epoch 170/250\n",
      "22/22 [==============================] - 0s 2ms/step - loss: 464.1440\n",
      "Epoch 171/250\n",
      "22/22 [==============================] - 0s 2ms/step - loss: 447.8549\n",
      "Epoch 172/250\n",
      "22/22 [==============================] - 0s 2ms/step - loss: 429.9432\n",
      "Epoch 173/250\n",
      "22/22 [==============================] - 0s 2ms/step - loss: 412.9557\n",
      "Epoch 174/250\n",
      "22/22 [==============================] - 0s 2ms/step - loss: 397.1143\n",
      "Epoch 175/250\n",
      "22/22 [==============================] - 0s 2ms/step - loss: 382.8321\n",
      "Epoch 176/250\n",
      "22/22 [==============================] - 0s 2ms/step - loss: 370.8852\n",
      "Epoch 177/250\n",
      "22/22 [==============================] - 0s 2ms/step - loss: 356.3614\n",
      "Epoch 178/250\n",
      "22/22 [==============================] - 0s 2ms/step - loss: 342.5002\n",
      "Epoch 179/250\n",
      "22/22 [==============================] - 0s 2ms/step - loss: 329.4909\n",
      "Epoch 180/250\n",
      "22/22 [==============================] - 0s 2ms/step - loss: 315.1334\n",
      "Epoch 181/250\n",
      "22/22 [==============================] - 0s 2ms/step - loss: 303.3035\n",
      "Epoch 182/250\n",
      "22/22 [==============================] - 0s 2ms/step - loss: 289.8200\n",
      "Epoch 183/250\n",
      "22/22 [==============================] - 0s 2ms/step - loss: 278.3337\n",
      "Epoch 184/250\n",
      "22/22 [==============================] - 0s 2ms/step - loss: 264.7411\n",
      "Epoch 185/250\n",
      "22/22 [==============================] - 0s 2ms/step - loss: 253.6967\n",
      "Epoch 186/250\n",
      "22/22 [==============================] - 0s 2ms/step - loss: 240.9893\n",
      "Epoch 187/250\n",
      "22/22 [==============================] - 0s 2ms/step - loss: 230.9825\n",
      "Epoch 188/250\n",
      "22/22 [==============================] - 0s 2ms/step - loss: 219.4720\n",
      "Epoch 189/250\n",
      "22/22 [==============================] - 0s 2ms/step - loss: 210.0611\n",
      "Epoch 190/250\n",
      "22/22 [==============================] - 0s 2ms/step - loss: 198.9335\n",
      "Epoch 191/250\n",
      "22/22 [==============================] - 0s 2ms/step - loss: 189.6948\n",
      "Epoch 192/250\n",
      "22/22 [==============================] - 0s 2ms/step - loss: 181.0444\n",
      "Epoch 193/250\n",
      "22/22 [==============================] - 0s 2ms/step - loss: 172.0357\n",
      "Epoch 194/250\n",
      "22/22 [==============================] - 0s 2ms/step - loss: 162.1302\n",
      "Epoch 195/250\n",
      "22/22 [==============================] - 0s 2ms/step - loss: 154.2335\n",
      "Epoch 196/250\n",
      "22/22 [==============================] - 0s 2ms/step - loss: 144.7362\n",
      "Epoch 197/250\n",
      "22/22 [==============================] - 0s 2ms/step - loss: 137.2444\n",
      "Epoch 198/250\n",
      "22/22 [==============================] - 0s 2ms/step - loss: 129.6702\n",
      "Epoch 199/250\n",
      "22/22 [==============================] - 0s 2ms/step - loss: 121.9512\n",
      "Epoch 200/250\n",
      "22/22 [==============================] - 0s 2ms/step - loss: 115.1986\n",
      "Epoch 201/250\n",
      "22/22 [==============================] - 0s 1ms/step - loss: 108.5890\n",
      "Epoch 202/250\n",
      "22/22 [==============================] - 0s 2ms/step - loss: 102.7620\n",
      "Epoch 203/250\n",
      "22/22 [==============================] - 0s 2ms/step - loss: 95.9363\n",
      "Epoch 204/250\n",
      "22/22 [==============================] - 0s 2ms/step - loss: 90.0145\n",
      "Epoch 205/250\n",
      "22/22 [==============================] - 0s 2ms/step - loss: 84.2754\n",
      "Epoch 206/250\n",
      "22/22 [==============================] - 0s 2ms/step - loss: 79.2977\n",
      "Epoch 207/250\n",
      "22/22 [==============================] - 0s 2ms/step - loss: 73.8349\n",
      "Epoch 208/250\n",
      "22/22 [==============================] - 0s 2ms/step - loss: 69.7751\n",
      "Epoch 209/250\n",
      "22/22 [==============================] - 0s 2ms/step - loss: 64.8488\n",
      "Epoch 210/250\n",
      "22/22 [==============================] - 0s 2ms/step - loss: 60.7865\n",
      "Epoch 211/250\n",
      "22/22 [==============================] - 0s 2ms/step - loss: 57.5392\n",
      "Epoch 212/250\n",
      "22/22 [==============================] - 0s 2ms/step - loss: 53.5374\n",
      "Epoch 213/250\n",
      "22/22 [==============================] - 0s 2ms/step - loss: 50.5225\n",
      "Epoch 214/250\n",
      "22/22 [==============================] - 0s 2ms/step - loss: 47.7866\n",
      "Epoch 215/250\n",
      "22/22 [==============================] - 0s 2ms/step - loss: 45.4186\n",
      "Epoch 216/250\n",
      "22/22 [==============================] - 0s 2ms/step - loss: 42.7893\n",
      "Epoch 217/250\n",
      "22/22 [==============================] - 0s 2ms/step - loss: 40.5250\n",
      "Epoch 218/250\n",
      "22/22 [==============================] - 0s 2ms/step - loss: 38.9552\n",
      "Epoch 219/250\n",
      "22/22 [==============================] - 0s 2ms/step - loss: 37.0259\n",
      "Epoch 220/250\n",
      "22/22 [==============================] - 0s 1ms/step - loss: 35.3902\n",
      "Epoch 221/250\n",
      "22/22 [==============================] - 0s 2ms/step - loss: 33.4922\n",
      "Epoch 222/250\n",
      "22/22 [==============================] - 0s 2ms/step - loss: 32.4014\n",
      "Epoch 223/250\n",
      "22/22 [==============================] - 0s 2ms/step - loss: 30.8526\n",
      "Epoch 224/250\n",
      "22/22 [==============================] - 0s 2ms/step - loss: 30.4312\n",
      "Epoch 225/250\n",
      "22/22 [==============================] - 0s 2ms/step - loss: 29.2374\n",
      "Epoch 226/250\n",
      "22/22 [==============================] - 0s 2ms/step - loss: 28.3432\n",
      "Epoch 227/250\n",
      "22/22 [==============================] - 0s 2ms/step - loss: 27.9042\n",
      "Epoch 228/250\n",
      "22/22 [==============================] - 0s 2ms/step - loss: 27.6470\n",
      "Epoch 229/250\n",
      "22/22 [==============================] - 0s 2ms/step - loss: 27.4529\n",
      "Epoch 230/250\n",
      "22/22 [==============================] - 0s 2ms/step - loss: 26.7357\n",
      "Epoch 231/250\n",
      "22/22 [==============================] - 0s 2ms/step - loss: 26.1825\n",
      "Epoch 232/250\n",
      "22/22 [==============================] - 0s 2ms/step - loss: 25.9540\n",
      "Epoch 233/250\n",
      "22/22 [==============================] - 0s 2ms/step - loss: 25.7259\n",
      "Epoch 234/250\n",
      "22/22 [==============================] - 0s 2ms/step - loss: 25.7781\n",
      "Epoch 235/250\n",
      "22/22 [==============================] - 0s 2ms/step - loss: 25.2345\n",
      "Epoch 236/250\n",
      "22/22 [==============================] - 0s 2ms/step - loss: 25.2038\n",
      "Epoch 237/250\n",
      "22/22 [==============================] - 0s 2ms/step - loss: 25.1066\n",
      "Epoch 238/250\n",
      "22/22 [==============================] - 0s 2ms/step - loss: 24.9044\n",
      "Epoch 239/250\n",
      "22/22 [==============================] - 0s 2ms/step - loss: 24.9424\n",
      "Epoch 240/250\n",
      "22/22 [==============================] - 0s 2ms/step - loss: 24.5471\n",
      "Epoch 241/250\n",
      "22/22 [==============================] - 0s 2ms/step - loss: 24.5280\n",
      "Epoch 242/250\n",
      "22/22 [==============================] - 0s 2ms/step - loss: 24.2996\n",
      "Epoch 243/250\n",
      "22/22 [==============================] - 0s 2ms/step - loss: 24.6636\n",
      "Epoch 244/250\n",
      "22/22 [==============================] - 0s 2ms/step - loss: 24.1420\n",
      "Epoch 245/250\n",
      "22/22 [==============================] - 0s 2ms/step - loss: 24.4015\n",
      "Epoch 246/250\n",
      "22/22 [==============================] - 0s 2ms/step - loss: 24.3872\n",
      "Epoch 247/250\n",
      "22/22 [==============================] - 0s 2ms/step - loss: 24.2383\n",
      "Epoch 248/250\n",
      "22/22 [==============================] - 0s 2ms/step - loss: 24.4173\n",
      "Epoch 249/250\n",
      "22/22 [==============================] - 0s 2ms/step - loss: 24.3400\n",
      "Epoch 250/250\n",
      "22/22 [==============================] - 0s 2ms/step - loss: 24.4149\n"
     ]
    },
    {
     "data": {
      "text/plain": [
       "<keras.callbacks.History at 0x7f6c26272350>"
      ]
     },
     "execution_count": 20,
     "metadata": {},
     "output_type": "execute_result"
    }
   ],
   "source": [
    "model.fit(x= X_train, y= y_train , epochs=250)"
   ]
  },
  {
   "cell_type": "code",
   "execution_count": 21,
   "id": "71cf1aa6",
   "metadata": {
    "execution": {
     "iopub.execute_input": "2022-07-15T21:45:19.581523Z",
     "iopub.status.busy": "2022-07-15T21:45:19.580408Z",
     "iopub.status.idle": "2022-07-15T21:45:19.586345Z",
     "shell.execute_reply": "2022-07-15T21:45:19.585484Z"
    },
    "papermill": {
     "duration": 0.06545,
     "end_time": "2022-07-15T21:45:19.588763",
     "exception": false,
     "start_time": "2022-07-15T21:45:19.523313",
     "status": "completed"
    },
    "tags": []
   },
   "outputs": [],
   "source": [
    "loss_df = pd.DataFrame(model.history.history)"
   ]
  },
  {
   "cell_type": "code",
   "execution_count": 22,
   "id": "69bcf2a0",
   "metadata": {
    "execution": {
     "iopub.execute_input": "2022-07-15T21:45:19.699389Z",
     "iopub.status.busy": "2022-07-15T21:45:19.698965Z",
     "iopub.status.idle": "2022-07-15T21:45:19.962083Z",
     "shell.execute_reply": "2022-07-15T21:45:19.960933Z"
    },
    "papermill": {
     "duration": 0.321087,
     "end_time": "2022-07-15T21:45:19.964756",
     "exception": false,
     "start_time": "2022-07-15T21:45:19.643669",
     "status": "completed"
    },
    "tags": []
   },
   "outputs": [
    {
     "data": {
      "text/plain": [
       "<AxesSubplot:>"
      ]
     },
     "execution_count": 22,
     "metadata": {},
     "output_type": "execute_result"
    },
    {
     "data": {
      "image/png": "[encoded data removed]",
      "text/plain": [
       "<Figure size 432x288 with 1 Axes>"
      ]
     },
     "metadata": {
      "needs_background": "light"
     },
     "output_type": "display_data"
    }
   ],
   "source": [
    "loss_df.plot()"
   ]
  },
  {
   "cell_type": "code",
   "execution_count": 23,
   "id": "acd8d206",
   "metadata": {
    "execution": {
     "iopub.execute_input": "2022-07-15T21:45:20.087473Z",
     "iopub.status.busy": "2022-07-15T21:45:20.086739Z",
     "iopub.status.idle": "2022-07-15T21:45:20.303769Z",
     "shell.execute_reply": "2022-07-15T21:45:20.302608Z"
    },
    "papermill": {
     "duration": 0.279826,
     "end_time": "2022-07-15T21:45:20.306131",
     "exception": false,
     "start_time": "2022-07-15T21:45:20.026305",
     "status": "completed"
    },
    "tags": []
   },
   "outputs": [
    {
     "name": "stdout",
     "output_type": "stream",
     "text": [
      "10/10 [==============================] - 0s 2ms/step - loss: 25.0831\n"
     ]
    },
    {
     "data": {
      "text/plain": [
       "25.083057403564453"
      ]
     },
     "execution_count": 23,
     "metadata": {},
     "output_type": "execute_result"
    }
   ],
   "source": [
    "model.evaluate(X_test, y_test)"
   ]
  },
  {
   "cell_type": "code",
   "execution_count": 24,
   "id": "c1368e3f",
   "metadata": {
    "execution": {
     "iopub.execute_input": "2022-07-15T21:45:20.416540Z",
     "iopub.status.busy": "2022-07-15T21:45:20.416110Z",
     "iopub.status.idle": "2022-07-15T21:45:20.512804Z",
     "shell.execute_reply": "2022-07-15T21:45:20.511512Z"
    },
    "papermill": {
     "duration": 0.15573,
     "end_time": "2022-07-15T21:45:20.516105",
     "exception": false,
     "start_time": "2022-07-15T21:45:20.360375",
     "status": "completed"
    },
    "tags": []
   },
   "outputs": [
    {
     "name": "stdout",
     "output_type": "stream",
     "text": [
      "22/22 [==============================] - 0s 1ms/step - loss: 24.1979\n"
     ]
    },
    {
     "data": {
      "text/plain": [
       "24.197917938232422"
      ]
     },
     "execution_count": 24,
     "metadata": {},
     "output_type": "execute_result"
    }
   ],
   "source": [
    "model.evaluate(X_train, y_train)"
   ]
  },
  {
   "cell_type": "code",
   "execution_count": 25,
   "id": "8e96ddd0",
   "metadata": {
    "execution": {
     "iopub.execute_input": "2022-07-15T21:45:20.637983Z",
     "iopub.status.busy": "2022-07-15T21:45:20.637165Z",
     "iopub.status.idle": "2022-07-15T21:45:20.802573Z",
     "shell.execute_reply": "2022-07-15T21:45:20.801607Z"
    },
    "papermill": {
     "duration": 0.233022,
     "end_time": "2022-07-15T21:45:20.805068",
     "exception": false,
     "start_time": "2022-07-15T21:45:20.572046",
     "status": "completed"
    },
    "tags": []
   },
   "outputs": [],
   "source": [
    "predict = model.predict(X_test)"
   ]
  },
  {
   "cell_type": "code",
   "execution_count": 26,
   "id": "266acf4c",
   "metadata": {
    "execution": {
     "iopub.execute_input": "2022-07-15T21:45:20.917787Z",
     "iopub.status.busy": "2022-07-15T21:45:20.916785Z",
     "iopub.status.idle": "2022-07-15T21:45:20.922036Z",
     "shell.execute_reply": "2022-07-15T21:45:20.921166Z"
    },
    "papermill": {
     "duration": 0.063036,
     "end_time": "2022-07-15T21:45:20.924255",
     "exception": false,
     "start_time": "2022-07-15T21:45:20.861219",
     "status": "completed"
    },
    "tags": []
   },
   "outputs": [],
   "source": [
    "predict = pd.Series(predict.reshape(300,))"
   ]
  },
  {
   "cell_type": "code",
   "execution_count": 27,
   "id": "ffed0d5a",
   "metadata": {
    "execution": {
     "iopub.execute_input": "2022-07-15T21:45:21.036160Z",
     "iopub.status.busy": "2022-07-15T21:45:21.035493Z",
     "iopub.status.idle": "2022-07-15T21:45:21.040437Z",
     "shell.execute_reply": "2022-07-15T21:45:21.039643Z"
    },
    "papermill": {
     "duration": 0.062862,
     "end_time": "2022-07-15T21:45:21.042645",
     "exception": false,
     "start_time": "2022-07-15T21:45:20.979783",
     "status": "completed"
    },
    "tags": []
   },
   "outputs": [],
   "source": [
    "pred_df = pd.DataFrame(y_test, columns=['Test true y'])"
   ]
  },
  {
   "cell_type": "code",
   "execution_count": 28,
   "id": "5dd8e15e",
   "metadata": {
    "execution": {
     "iopub.execute_input": "2022-07-15T21:45:21.152749Z",
     "iopub.status.busy": "2022-07-15T21:45:21.152334Z",
     "iopub.status.idle": "2022-07-15T21:45:21.225377Z",
     "shell.execute_reply": "2022-07-15T21:45:21.224244Z"
    },
    "papermill": {
     "duration": 0.131287,
     "end_time": "2022-07-15T21:45:21.228080",
     "exception": false,
     "start_time": "2022-07-15T21:45:21.096793",
     "status": "completed"
    },
    "tags": []
   },
   "outputs": [],
   "source": [
    "test_predictions = model.predict(X_test)"
   ]
  },
  {
   "cell_type": "code",
   "execution_count": 29,
   "id": "869e8ded",
   "metadata": {
    "execution": {
     "iopub.execute_input": "2022-07-15T21:45:21.340011Z",
     "iopub.status.busy": "2022-07-15T21:45:21.339617Z",
     "iopub.status.idle": "2022-07-15T21:45:21.345108Z",
     "shell.execute_reply": "2022-07-15T21:45:21.343885Z"
    },
    "papermill": {
     "duration": 0.063648,
     "end_time": "2022-07-15T21:45:21.347427",
     "exception": false,
     "start_time": "2022-07-15T21:45:21.283779",
     "status": "completed"
    },
    "tags": []
   },
   "outputs": [],
   "source": [
    "pred_df = pd.DataFrame(y_test,columns=['Test Y'])"
   ]
  },
  {
   "cell_type": "code",
   "execution_count": 30,
   "id": "f67892d3",
   "metadata": {
    "execution": {
     "iopub.execute_input": "2022-07-15T21:45:21.460227Z",
     "iopub.status.busy": "2022-07-15T21:45:21.459850Z",
     "iopub.status.idle": "2022-07-15T21:45:21.465182Z",
     "shell.execute_reply": "2022-07-15T21:45:21.463844Z"
    },
    "papermill": {
     "duration": 0.06381,
     "end_time": "2022-07-15T21:45:21.467720",
     "exception": false,
     "start_time": "2022-07-15T21:45:21.403910",
     "status": "completed"
    },
    "tags": []
   },
   "outputs": [],
   "source": [
    "test_predictions = pd.Series(test_predictions.reshape(300,))"
   ]
  },
  {
   "cell_type": "code",
   "execution_count": 31,
   "id": "631f55bc",
   "metadata": {
    "execution": {
     "iopub.execute_input": "2022-07-15T21:45:21.579004Z",
     "iopub.status.busy": "2022-07-15T21:45:21.578615Z",
     "iopub.status.idle": "2022-07-15T21:45:21.584764Z",
     "shell.execute_reply": "2022-07-15T21:45:21.583420Z"
    },
    "papermill": {
     "duration": 0.064661,
     "end_time": "2022-07-15T21:45:21.587264",
     "exception": false,
     "start_time": "2022-07-15T21:45:21.522603",
     "status": "completed"
    },
    "tags": []
   },
   "outputs": [],
   "source": [
    "pred_df = pd.concat([pred_df,test_predictions],axis=1)"
   ]
  },
  {
   "cell_type": "code",
   "execution_count": 32,
   "id": "e77be804",
   "metadata": {
    "execution": {
     "iopub.execute_input": "2022-07-15T21:45:21.699475Z",
     "iopub.status.busy": "2022-07-15T21:45:21.699080Z",
     "iopub.status.idle": "2022-07-15T21:45:21.704214Z",
     "shell.execute_reply": "2022-07-15T21:45:21.703015Z"
    },
    "papermill": {
     "duration": 0.063637,
     "end_time": "2022-07-15T21:45:21.706542",
     "exception": false,
     "start_time": "2022-07-15T21:45:21.642905",
     "status": "completed"
    },
    "tags": []
   },
   "outputs": [],
   "source": [
    "pred_df.columns = ['Test True y' , 'model prediction']"
   ]
  },
  {
   "cell_type": "code",
   "execution_count": 33,
   "id": "ffb1b7f7",
   "metadata": {
    "execution": {
     "iopub.execute_input": "2022-07-15T21:45:21.818270Z",
     "iopub.status.busy": "2022-07-15T21:45:21.817894Z",
     "iopub.status.idle": "2022-07-15T21:45:21.831907Z",
     "shell.execute_reply": "2022-07-15T21:45:21.831044Z"
    },
    "papermill": {
     "duration": 0.072758,
     "end_time": "2022-07-15T21:45:21.834189",
     "exception": false,
     "start_time": "2022-07-15T21:45:21.761431",
     "status": "completed"
    },
    "tags": []
   },
   "outputs": [
    {
     "data": {
      "text/html": [
       "<div>\n",
       "<style scoped>\n",
       "    .dataframe tbody tr th:only-of-type {\n",
       "        vertical-align: middle;\n",
       "    }\n",
       "\n",
       "    .dataframe tbody tr th {\n",
       "        vertical-align: top;\n",
       "    }\n",
       "\n",
       "    .dataframe thead th {\n",
       "        text-align: right;\n",
       "    }\n",
       "</style>\n",
       "<table border=\"1\" class=\"dataframe\">\n",
       "  <thead>\n",
       "    <tr style=\"text-align: right;\">\n",
       "      <th></th>\n",
       "      <th>Test True y</th>\n",
       "      <th>model prediction</th>\n",
       "    </tr>\n",
       "  </thead>\n",
       "  <tbody>\n",
       "    <tr>\n",
       "      <th>0</th>\n",
       "      <td>402.296319</td>\n",
       "      <td>405.280396</td>\n",
       "    </tr>\n",
       "    <tr>\n",
       "      <th>1</th>\n",
       "      <td>624.156198</td>\n",
       "      <td>622.947998</td>\n",
       "    </tr>\n",
       "    <tr>\n",
       "      <th>2</th>\n",
       "      <td>582.455066</td>\n",
       "      <td>591.552795</td>\n",
       "    </tr>\n",
       "    <tr>\n",
       "      <th>3</th>\n",
       "      <td>578.588606</td>\n",
       "      <td>571.934021</td>\n",
       "    </tr>\n",
       "    <tr>\n",
       "      <th>4</th>\n",
       "      <td>371.224104</td>\n",
       "      <td>367.021362</td>\n",
       "    </tr>\n",
       "    <tr>\n",
       "      <th>...</th>\n",
       "      <td>...</td>\n",
       "      <td>...</td>\n",
       "    </tr>\n",
       "    <tr>\n",
       "      <th>295</th>\n",
       "      <td>525.704657</td>\n",
       "      <td>528.844238</td>\n",
       "    </tr>\n",
       "    <tr>\n",
       "      <th>296</th>\n",
       "      <td>502.909473</td>\n",
       "      <td>515.536072</td>\n",
       "    </tr>\n",
       "    <tr>\n",
       "      <th>297</th>\n",
       "      <td>612.727910</td>\n",
       "      <td>609.061829</td>\n",
       "    </tr>\n",
       "    <tr>\n",
       "      <th>298</th>\n",
       "      <td>417.569725</td>\n",
       "      <td>416.768433</td>\n",
       "    </tr>\n",
       "    <tr>\n",
       "      <th>299</th>\n",
       "      <td>410.538250</td>\n",
       "      <td>410.970642</td>\n",
       "    </tr>\n",
       "  </tbody>\n",
       "</table>\n",
       "<p>300 rows × 2 columns</p>\n",
       "</div>"
      ],
      "text/plain": [
       "     Test True y  model prediction\n",
       "0     402.296319        405.280396\n",
       "1     624.156198        622.947998\n",
       "2     582.455066        591.552795\n",
       "3     578.588606        571.934021\n",
       "4     371.224104        367.021362\n",
       "..           ...               ...\n",
       "295   525.704657        528.844238\n",
       "296   502.909473        515.536072\n",
       "297   612.727910        609.061829\n",
       "298   417.569725        416.768433\n",
       "299   410.538250        410.970642\n",
       "\n",
       "[300 rows x 2 columns]"
      ]
     },
     "execution_count": 33,
     "metadata": {},
     "output_type": "execute_result"
    }
   ],
   "source": [
    "pred_df"
   ]
  },
  {
   "cell_type": "code",
   "execution_count": 34,
   "id": "5725dfe9",
   "metadata": {
    "execution": {
     "iopub.execute_input": "2022-07-15T21:45:21.952923Z",
     "iopub.status.busy": "2022-07-15T21:45:21.952555Z",
     "iopub.status.idle": "2022-07-15T21:45:22.229069Z",
     "shell.execute_reply": "2022-07-15T21:45:22.227673Z"
    },
    "papermill": {
     "duration": 0.342402,
     "end_time": "2022-07-15T21:45:22.232200",
     "exception": false,
     "start_time": "2022-07-15T21:45:21.889798",
     "status": "completed"
    },
    "tags": []
   },
   "outputs": [
    {
     "data": {
      "text/plain": [
       "<AxesSubplot:xlabel='Test True y', ylabel='model prediction'>"
      ]
     },
     "execution_count": 34,
     "metadata": {},
     "output_type": "execute_result"
    },
    {
     "data": {
      "image/png": "[encoded data removed]",
      "text/plain": [
       "<Figure size 432x288 with 1 Axes>"
      ]
     },
     "metadata": {
      "needs_background": "light"
     },
     "output_type": "display_data"
    }
   ],
   "source": [
    "sns.scatterplot(x='Test True y',y='model prediction',data=pred_df)"
   ]
  },
  {
   "cell_type": "code",
   "execution_count": 35,
   "id": "4af28b2a",
   "metadata": {
    "execution": {
     "iopub.execute_input": "2022-07-15T21:45:22.360341Z",
     "iopub.status.busy": "2022-07-15T21:45:22.359706Z",
     "iopub.status.idle": "2022-07-15T21:45:22.364589Z",
     "shell.execute_reply": "2022-07-15T21:45:22.363545Z"
    },
    "papermill": {
     "duration": 0.077648,
     "end_time": "2022-07-15T21:45:22.368168",
     "exception": false,
     "start_time": "2022-07-15T21:45:22.290520",
     "status": "completed"
    },
    "tags": []
   },
   "outputs": [],
   "source": [
    "from sklearn.metrics import mean_absolute_error, mean_squared_error"
   ]
  },
  {
   "cell_type": "code",
   "execution_count": 36,
   "id": "f17b9049",
   "metadata": {
    "execution": {
     "iopub.execute_input": "2022-07-15T21:45:22.521963Z",
     "iopub.status.busy": "2022-07-15T21:45:22.521191Z",
     "iopub.status.idle": "2022-07-15T21:45:22.529933Z",
     "shell.execute_reply": "2022-07-15T21:45:22.528864Z"
    },
    "papermill": {
     "duration": 0.089061,
     "end_time": "2022-07-15T21:45:22.532248",
     "exception": false,
     "start_time": "2022-07-15T21:45:22.443187",
     "status": "completed"
    },
    "tags": []
   },
   "outputs": [
    {
     "data": {
      "text/plain": [
       "4.019320170063371"
      ]
     },
     "execution_count": 36,
     "metadata": {},
     "output_type": "execute_result"
    }
   ],
   "source": [
    "mean_absolute_error(y_test, predict)"
   ]
  },
  {
   "cell_type": "code",
   "execution_count": 37,
   "id": "2c1a8032",
   "metadata": {
    "execution": {
     "iopub.execute_input": "2022-07-15T21:45:22.648536Z",
     "iopub.status.busy": "2022-07-15T21:45:22.647674Z",
     "iopub.status.idle": "2022-07-15T21:45:22.669788Z",
     "shell.execute_reply": "2022-07-15T21:45:22.668546Z"
    },
    "papermill": {
     "duration": 0.084471,
     "end_time": "2022-07-15T21:45:22.672431",
     "exception": false,
     "start_time": "2022-07-15T21:45:22.587960",
     "status": "completed"
    },
    "tags": []
   },
   "outputs": [
    {
     "data": {
      "text/html": [
       "<div>\n",
       "<style scoped>\n",
       "    .dataframe tbody tr th:only-of-type {\n",
       "        vertical-align: middle;\n",
       "    }\n",
       "\n",
       "    .dataframe tbody tr th {\n",
       "        vertical-align: top;\n",
       "    }\n",
       "\n",
       "    .dataframe thead th {\n",
       "        text-align: right;\n",
       "    }\n",
       "</style>\n",
       "<table border=\"1\" class=\"dataframe\">\n",
       "  <thead>\n",
       "    <tr style=\"text-align: right;\">\n",
       "      <th></th>\n",
       "      <th>price</th>\n",
       "      <th>feature1</th>\n",
       "      <th>feature2</th>\n",
       "    </tr>\n",
       "  </thead>\n",
       "  <tbody>\n",
       "    <tr>\n",
       "      <th>count</th>\n",
       "      <td>1000.000000</td>\n",
       "      <td>1000.000000</td>\n",
       "      <td>1000.000000</td>\n",
       "    </tr>\n",
       "    <tr>\n",
       "      <th>mean</th>\n",
       "      <td>498.673029</td>\n",
       "      <td>1000.014171</td>\n",
       "      <td>999.979847</td>\n",
       "    </tr>\n",
       "    <tr>\n",
       "      <th>std</th>\n",
       "      <td>93.785431</td>\n",
       "      <td>0.974018</td>\n",
       "      <td>0.948330</td>\n",
       "    </tr>\n",
       "    <tr>\n",
       "      <th>min</th>\n",
       "      <td>223.346793</td>\n",
       "      <td>997.058347</td>\n",
       "      <td>996.995651</td>\n",
       "    </tr>\n",
       "    <tr>\n",
       "      <th>25%</th>\n",
       "      <td>433.025732</td>\n",
       "      <td>999.332068</td>\n",
       "      <td>999.316106</td>\n",
       "    </tr>\n",
       "    <tr>\n",
       "      <th>50%</th>\n",
       "      <td>502.382117</td>\n",
       "      <td>1000.009915</td>\n",
       "      <td>1000.002243</td>\n",
       "    </tr>\n",
       "    <tr>\n",
       "      <th>75%</th>\n",
       "      <td>564.921588</td>\n",
       "      <td>1000.637580</td>\n",
       "      <td>1000.645380</td>\n",
       "    </tr>\n",
       "    <tr>\n",
       "      <th>max</th>\n",
       "      <td>774.407854</td>\n",
       "      <td>1003.207934</td>\n",
       "      <td>1002.666308</td>\n",
       "    </tr>\n",
       "  </tbody>\n",
       "</table>\n",
       "</div>"
      ],
      "text/plain": [
       "             price     feature1     feature2\n",
       "count  1000.000000  1000.000000  1000.000000\n",
       "mean    498.673029  1000.014171   999.979847\n",
       "std      93.785431     0.974018     0.948330\n",
       "min     223.346793   997.058347   996.995651\n",
       "25%     433.025732   999.332068   999.316106\n",
       "50%     502.382117  1000.009915  1000.002243\n",
       "75%     564.921588  1000.637580  1000.645380\n",
       "max     774.407854  1003.207934  1002.666308"
      ]
     },
     "execution_count": 37,
     "metadata": {},
     "output_type": "execute_result"
    }
   ],
   "source": [
    "df.describe()"
   ]
  },
  {
   "cell_type": "code",
   "execution_count": 38,
   "id": "6c824d74",
   "metadata": {
    "execution": {
     "iopub.execute_input": "2022-07-15T21:45:22.787050Z",
     "iopub.status.busy": "2022-07-15T21:45:22.786238Z",
     "iopub.status.idle": "2022-07-15T21:45:22.794307Z",
     "shell.execute_reply": "2022-07-15T21:45:22.793406Z"
    },
    "papermill": {
     "duration": 0.068365,
     "end_time": "2022-07-15T21:45:22.796776",
     "exception": false,
     "start_time": "2022-07-15T21:45:22.728411",
     "status": "completed"
    },
    "tags": []
   },
   "outputs": [
    {
     "data": {
      "text/plain": [
       "25.0830610889196"
      ]
     },
     "execution_count": 38,
     "metadata": {},
     "output_type": "execute_result"
    }
   ],
   "source": [
    "mean_squared_error(y_test, predict)"
   ]
  },
  {
   "cell_type": "code",
   "execution_count": 39,
   "id": "9367e711",
   "metadata": {
    "execution": {
     "iopub.execute_input": "2022-07-15T21:45:22.912111Z",
     "iopub.status.busy": "2022-07-15T21:45:22.911544Z",
     "iopub.status.idle": "2022-07-15T21:45:22.917576Z",
     "shell.execute_reply": "2022-07-15T21:45:22.916308Z"
    },
    "papermill": {
     "duration": 0.068393,
     "end_time": "2022-07-15T21:45:22.921666",
     "exception": false,
     "start_time": "2022-07-15T21:45:22.853273",
     "status": "completed"
    },
    "tags": []
   },
   "outputs": [],
   "source": [
    "new_gem = [[998,1000]]"
   ]
  },
  {
   "cell_type": "code",
   "execution_count": 40,
   "id": "bcb3b6e3",
   "metadata": {
    "execution": {
     "iopub.execute_input": "2022-07-15T21:45:23.038588Z",
     "iopub.status.busy": "2022-07-15T21:45:23.038095Z",
     "iopub.status.idle": "2022-07-15T21:45:23.042997Z",
     "shell.execute_reply": "2022-07-15T21:45:23.042105Z"
    },
    "papermill": {
     "duration": 0.065921,
     "end_time": "2022-07-15T21:45:23.045338",
     "exception": false,
     "start_time": "2022-07-15T21:45:22.979417",
     "status": "completed"
    },
    "tags": []
   },
   "outputs": [],
   "source": [
    "new_gem = scaler.transform(new_gem)"
   ]
  },
  {
   "cell_type": "code",
   "execution_count": 41,
   "id": "b4a765c9",
   "metadata": {
    "execution": {
     "iopub.execute_input": "2022-07-15T21:45:23.160094Z",
     "iopub.status.busy": "2022-07-15T21:45:23.159726Z",
     "iopub.status.idle": "2022-07-15T21:45:23.221955Z",
     "shell.execute_reply": "2022-07-15T21:45:23.220701Z"
    },
    "papermill": {
     "duration": 0.12252,
     "end_time": "2022-07-15T21:45:23.224571",
     "exception": false,
     "start_time": "2022-07-15T21:45:23.102051",
     "status": "completed"
    },
    "tags": []
   },
   "outputs": [
    {
     "data": {
      "text/plain": [
       "array([[419.92783]], dtype=float32)"
      ]
     },
     "execution_count": 41,
     "metadata": {},
     "output_type": "execute_result"
    }
   ],
   "source": [
    "model.predict(new_gem)"
   ]
  },
  {
   "cell_type": "code",
   "execution_count": null,
   "id": "5b6eeaca",
   "metadata": {
    "papermill": {
     "duration": 0.0556,
     "end_time": "2022-07-15T21:45:23.335763",
     "exception": false,
     "start_time": "2022-07-15T21:45:23.280163",
     "status": "completed"
    },
    "tags": []
   },
   "outputs": [],
   "source": []
  }
 ],
 "metadata": {
  "kernelspec": {
   "display_name": "Python 3",
   "language": "python",
   "name": "python3"
  },
  "language_info": {
   "codemirror_mode": {
    "name": "ipython",
    "version": 3
   },
   "file_extension": ".py",
   "mimetype": "text/x-python",
   "name": "python",
   "nbconvert_exporter": "python",
   "pygments_lexer": "ipython3",
   "version": "3.7.12"
  },
  "papermill": {
   "default_parameters": {},
   "duration": 45.802336,
   "end_time": "2022-07-15T21:45:26.648698",
   "environment_variables": {},
   "exception": null,
   "input_path": "__notebook__.ipynb",
   "output_path": "__notebook__.ipynb",
   "parameters": {},
   "start_time": "2022-07-15T21:44:40.846362",
   "version": "2.3.4"
  }
 },
 "nbformat": 4,
 "nbformat_minor": 5
}
